{
 "cells": [
  {
   "cell_type": "markdown",
   "metadata": {},
   "source": [
    "## Part 1 - Movie Poster Emotion Analysis\n",
    "\n",
    "\n",
    "### Introduction\n",
    "\n",
    "There are many ways to decide if you would like to Watch a movie. Here is a list of common ways to make this decision. \n",
    "\n",
    " 1. Read move critics\n",
    " 2. Watch trailers\n",
    " 3. Friends recommendation\n",
    " ...\n",
    "\n",
    "But sometimes, strongly enough, you might have found yourself making this decision based on a quick glance of the movie poster. There is something about the movie poster that grabs your initial attention. Something that makes you at least a little curious to read the movie description. \n",
    "\n",
    "What is that? Is it really important? Do we really pick a movie based on their cover? \n",
    "\n",
    "These are the questions that I had when I though about the modern way of selecting movies. May be the single best question to summarize this analysis is to know: \n",
    "\n",
    "Do we really select a movie to watch based on their poster/cover? \n",
    "\n",
    "or even\n",
    "\n",
    "Does movie poster **\"Facial Expression\"** matters toward its **\"popularity\"**?\n",
    "\n",
    "\n",
    "I decided to answer this question by collecting relevant data and posters. My intention is to continue this project and refine it as I get more experienced with ***deep-learning*** and image ***Emotion Detection***. There are endless ways to answer this question. However, as for my first attempt, I decided to study one of the most common feature of movie posters; **Human Face** and **Human Facial Expression**. Here, the initial idea is to understand the importance of human face on movie posters. Are we more likely to watch a movie when there is a human face on the cover? What about the expression? Is that important? Are \"**Happy**\" movies more popular than **\"Sad\"** movies? \n",
    "\n",
    "In this analysis, the `Vote_Count` variable is assumed to be a valid representative of viewer's interest and therefore the response variable. \n",
    "\n",
    "### Data and methods\n",
    "\n",
    "#### Movie Data:\n",
    "There are a few ways to collect movie related stats. There are a few publicly available datasets on Kaggle that have movie stats. I was inspired  particularly by [TMDB 5000 Movie Dataset](https://www.kaggle.com/tmdb/tmdb-movie-metadata). This is a nice dataset and has the structure and framework that I was seeking. It doesn't, however, come with posters. It also has a dataframe that needs cleaning. That is why I decided to \"scrape\" my own data from the [TMDB](https://www.themoviedb.org/) website. Many thanks to the organizers of this website and their openness to developers. \n",
    "\n",
    "TMDB provide many python APIs from which I used [tmdbsimple](https://github.com/celiao/tmdbsimple/) (can be installed from GitHub). "
   ]
  },
  {
   "cell_type": "code",
   "execution_count": 2,
   "metadata": {
    "collapsed": true
   },
   "outputs": [],
   "source": [
    "import tmdbsimple as tmdb #TMDB API\n",
    "import urllib.request #URL handling modules\n",
    "import pandas as pd\n",
    "import re # Regular Expressions"
   ]
  },
  {
   "cell_type": "code",
   "execution_count": null,
   "metadata": {
    "collapsed": true
   },
   "outputs": [],
   "source": [
    "tmdb.API_KEY = 'USER_SPECIFIC_Key'"
   ]
  },
  {
   "cell_type": "markdown",
   "metadata": {},
   "source": [
    "Using the above API, I retrieved a a list of ~4400 movies from TMDB. There are various information available for each title among which I store the following:\n",
    "\n",
    " 1. Title\n",
    " 2. Budget\n",
    " 3. Genre\n",
    " 4. Original Language\n",
    " 5. Popularity\n",
    " 6. Revenue\n",
    " 7. Runtime\n",
    " 8. User Rating\n",
    " 9. Vote Count\n",
    " 10. Poster URL, and\n",
    " 11. Movie ID\n",
    " 12. Release Date\n",
    "\n",
    "Finally, by passing the URL of the poster to my code, I was able to compile all of the movie poster for the received titles. "
   ]
  },
  {
   "cell_type": "code",
   "execution_count": null,
   "metadata": {
    "collapsed": true
   },
   "outputs": [],
   "source": [
    "search = tmdb.Search()\n",
    "\n",
    "# Now we have the id of all of our movies, we will procced to download their poster from the TMDB\n",
    "mdic = {}\n",
    "mdb = {}\n",
    "\n",
    "title = []\n",
    "budget = []\n",
    "genre1 = []\n",
    "org_lan = []\n",
    "pop = []\n",
    "rev = []\n",
    "run = []\n",
    "rate = []\n",
    "v_count = []\n",
    "poster = []\n",
    "poster_url = []\n",
    "r_date = []\n",
    "m_ids = []\n",
    "\n",
    "for ids in m_id:\n",
    "    mv = tmdb.Movies(ids)\n",
    "    mv.info()\n",
    "    #The location of the poster in the following dictionary is:\n",
    "    tt = re.sub(r\"[^a-zA-Z0-9]+\",\" \" , mv.title)\n",
    "    m_ids.append(mv.id)\n",
    "    title.append(mv.title)\n",
    "    budget.append(mv.budget)\n",
    "    genre1.append(mv.genres[0]['name'])\n",
    "    org_lan.append(mv.original_language)\n",
    "    pop.append(mv.popularity)\n",
    "    rev.append(mv.revenue)\n",
    "    run.append(mv.runtime)\n",
    "    rate.append(mv.vote_average)\n",
    "    v_count.append(mv.vote_count)\n",
    "    poster.append(mv.poster_path)\n",
    "    r_date.append(mv.r_date)\n",
    "    # The absolute url\n",
    "    url = 'https://image.tmdb.org/t/p/original'\n",
    "    im_url = url + mv.poster_path\n",
    "    poster_url.append(im_url)\n",
    "    #Lets Download the poster and save it in the movie poster folder\n",
    "    urllib.request.urlretrieve(im_url, outdir + str(ids) + '.jpg')"
   ]
  },
  {
   "cell_type": "markdown",
   "metadata": {},
   "source": [
    "Finally, I was able to contruct a dataframe containing all of the above information."
   ]
  },
  {
   "cell_type": "code",
   "execution_count": null,
   "metadata": {
    "collapsed": true
   },
   "outputs": [],
   "source": [
    "# Construct the daraframe\n",
    "m_df = pd.DataFrame({'Movie_ID':m_ids,\n",
    "                     'Title':title,\n",
    "                     'Budget':budget,\n",
    "                     'Original_Language':org_lan,\n",
    "                     'popularity': pop,\n",
    "                     'release_date': r_date,\n",
    "                     'Revenue' :rev,\n",
    "                     'Runtime' :run,\n",
    "                     'Rating':rate,\n",
    "                     'Vote_Count':v_count,\n",
    "                     'Poster_url':poster_url})"
   ]
  },
  {
   "cell_type": "markdown",
   "metadata": {},
   "source": [
    "The constructed dataframe look like this:"
   ]
  },
  {
   "cell_type": "code",
   "execution_count": 8,
   "metadata": {},
   "outputs": [
    {
     "data": {
      "text/html": [
       "<div>\n",
       "<style scoped>\n",
       "    .dataframe tbody tr th:only-of-type {\n",
       "        vertical-align: middle;\n",
       "    }\n",
       "\n",
       "    .dataframe tbody tr th {\n",
       "        vertical-align: top;\n",
       "    }\n",
       "\n",
       "    .dataframe thead th {\n",
       "        text-align: right;\n",
       "    }\n",
       "</style>\n",
       "<table border=\"1\" class=\"dataframe\">\n",
       "  <thead>\n",
       "    <tr style=\"text-align: right;\">\n",
       "      <th></th>\n",
       "      <th>Movie_ID</th>\n",
       "      <th>Title</th>\n",
       "      <th>Budget</th>\n",
       "      <th>Original_Language</th>\n",
       "      <th>popularity</th>\n",
       "      <th>release_date</th>\n",
       "      <th>Revenue</th>\n",
       "      <th>Runtime</th>\n",
       "      <th>Rating</th>\n",
       "      <th>Vote_Count</th>\n",
       "      <th>Poster_url</th>\n",
       "    </tr>\n",
       "  </thead>\n",
       "  <tbody>\n",
       "    <tr>\n",
       "      <th>0</th>\n",
       "      <td>868</td>\n",
       "      <td>Tsotsi</td>\n",
       "      <td>3000000</td>\n",
       "      <td>af</td>\n",
       "      <td>2.504169</td>\n",
       "      <td>8/18/2005</td>\n",
       "      <td>9879971</td>\n",
       "      <td>94.0</td>\n",
       "      <td>7.0</td>\n",
       "      <td>137</td>\n",
       "      <td>https://image.tmdb.org/t/p/original/6ylcfUctX2...</td>\n",
       "    </tr>\n",
       "    <tr>\n",
       "      <th>1</th>\n",
       "      <td>17654</td>\n",
       "      <td>District 9</td>\n",
       "      <td>30000000</td>\n",
       "      <td>en</td>\n",
       "      <td>63.136780</td>\n",
       "      <td>8/5/2009</td>\n",
       "      <td>210819611</td>\n",
       "      <td>112.0</td>\n",
       "      <td>7.3</td>\n",
       "      <td>5066</td>\n",
       "      <td>https://image.tmdb.org/t/p/original/axFmCRNQsW...</td>\n",
       "    </tr>\n",
       "    <tr>\n",
       "      <th>2</th>\n",
       "      <td>1725</td>\n",
       "      <td>West Side Story</td>\n",
       "      <td>6000000</td>\n",
       "      <td>en</td>\n",
       "      <td>23.431117</td>\n",
       "      <td>10/18/1961</td>\n",
       "      <td>43656822</td>\n",
       "      <td>152.0</td>\n",
       "      <td>7.3</td>\n",
       "      <td>727</td>\n",
       "      <td>https://image.tmdb.org/t/p/original/zRQhCSREdR...</td>\n",
       "    </tr>\n",
       "    <tr>\n",
       "      <th>3</th>\n",
       "      <td>7347</td>\n",
       "      <td>Elite Squad</td>\n",
       "      <td>4000000</td>\n",
       "      <td>pt</td>\n",
       "      <td>23.604936</td>\n",
       "      <td>10/12/2007</td>\n",
       "      <td>0</td>\n",
       "      <td>115.0</td>\n",
       "      <td>8.0</td>\n",
       "      <td>896</td>\n",
       "      <td>https://image.tmdb.org/t/p/original/soOOLcNFRH...</td>\n",
       "    </tr>\n",
       "    <tr>\n",
       "      <th>4</th>\n",
       "      <td>12405</td>\n",
       "      <td>Slumdog Millionaire</td>\n",
       "      <td>15000000</td>\n",
       "      <td>en</td>\n",
       "      <td>59.258969</td>\n",
       "      <td>5/12/2008</td>\n",
       "      <td>377910544</td>\n",
       "      <td>120.0</td>\n",
       "      <td>7.7</td>\n",
       "      <td>5195</td>\n",
       "      <td>https://image.tmdb.org/t/p/original/gWE4R4DjcU...</td>\n",
       "    </tr>\n",
       "  </tbody>\n",
       "</table>\n",
       "</div>"
      ],
      "text/plain": [
       "   Movie_ID                Title    Budget Original_Language  popularity  \\\n",
       "0       868               Tsotsi   3000000                af    2.504169   \n",
       "1     17654           District 9  30000000                en   63.136780   \n",
       "2      1725      West Side Story   6000000                en   23.431117   \n",
       "3      7347          Elite Squad   4000000                pt   23.604936   \n",
       "4     12405  Slumdog Millionaire  15000000                en   59.258969   \n",
       "\n",
       "  release_date    Revenue  Runtime  Rating  Vote_Count  \\\n",
       "0    8/18/2005    9879971     94.0     7.0         137   \n",
       "1     8/5/2009  210819611    112.0     7.3        5066   \n",
       "2   10/18/1961   43656822    152.0     7.3         727   \n",
       "3   10/12/2007          0    115.0     8.0         896   \n",
       "4    5/12/2008  377910544    120.0     7.7        5195   \n",
       "\n",
       "                                          Poster_url  \n",
       "0  https://image.tmdb.org/t/p/original/6ylcfUctX2...  \n",
       "1  https://image.tmdb.org/t/p/original/axFmCRNQsW...  \n",
       "2  https://image.tmdb.org/t/p/original/zRQhCSREdR...  \n",
       "3  https://image.tmdb.org/t/p/original/soOOLcNFRH...  \n",
       "4  https://image.tmdb.org/t/p/original/gWE4R4DjcU...  "
      ]
     },
     "execution_count": 8,
     "metadata": {},
     "output_type": "execute_result"
    }
   ],
   "source": [
    "# Movie DataFr\n",
    "# Since this is not a \"live\" snipit, I'll be imorting the downloaded dataframe from HDD.\n",
    "m_df = pd.read_csv('/home/fyousef/face_rec/MOVIE_5000/movies_TMDB.csv')\n",
    "m_df.head(5)"
   ]
  },
  {
   "cell_type": "markdown",
   "metadata": {},
   "source": [
    "The dataframe was finally saved to HDD."
   ]
  },
  {
   "cell_type": "code",
   "execution_count": null,
   "metadata": {
    "collapsed": true
   },
   "outputs": [],
   "source": [
    "# Save the dataframe\n",
    "m_df.to_csv('movies_TMDB.csv', sep=\",\")"
   ]
  },
  {
   "cell_type": "markdown",
   "metadata": {},
   "source": [
    "#### Poster Analysis\n",
    "\n",
    "The second part of this data gathering was spent on performing **Face Recognition** and **Emotion Detection** on the images. The area of face detection and emotional analysis is very new and contains complex algorithms. Many of the above techniques requires knowledge of **deep-learning** and **machine-learning**. I used the `face_recognition` module from GitHub(https://github.com/ageitgey/face_recognition) for facial recognition. This is a simple, yet efficient tool to quickly find faces in the movie posters. The caveat is that the ability of the detecting faces is dependent upon the image resolution. The above module find less number of faces in similar small size posters compared to larger (1200x2000 pixel) posters. Therefore, one should be willing to sacrifice computation time for accurate detection (albeit with availbility of higher resolution posters). \n",
    "\n",
    "I also used the newly distributed [`EmoPy`](https://github.com/thoughtworksarts/EmoPy) module for facial emotion recognition. This package uses **TensorFlow** and deep-learning to train and detect existing emotions of a face in the poster. This module has many detection levels and uses deep-learning to detect the facial emotions. Processing time is significant for this module. The following is the code snippet for face recognition and emotion detection. The above work yield two final parameters:\n",
    "\n",
    " 1. Face Score (a float between 0 to 3 for each movie poster representing the general facial expression). 0 means angry, and 3 means happy. 2 is a middle state representing calmness. This value is averaged for all the detected faces in the movie poster.\n",
    " 2. Face Count (summarizes the detected number of faces at the available poster resolution)"
   ]
  },
  {
   "cell_type": "code",
   "execution_count": null,
   "metadata": {
    "collapsed": true
   },
   "outputs": [],
   "source": [
    "from PIL import Image\n",
    "import face_recognition\n",
    "import numpy as np\n",
    "import matplotlib.pyplot as plt\n",
    "import os\n",
    "import glob\n",
    "import pickle\n",
    "import pandas as np\n",
    "\n",
    "# The EmoPy Package for emotion detection\n",
    "from EmoPy.src.fermodel import FERModel\n",
    "from pkg_resources import resource_filename"
   ]
  },
  {
   "cell_type": "markdown",
   "metadata": {},
   "source": [
    "I also wrote two functions to automate the face recognition and emotion detection for the ~4400 movie posters. "
   ]
  },
  {
   "cell_type": "code",
   "execution_count": null,
   "metadata": {
    "collapsed": true
   },
   "outputs": [],
   "source": [
    "# Face_emotion_function\n",
    "def f_location(f_l):\n",
    "    emos = []\n",
    "    for face_location in f_l:\n",
    "        # Print the location of each face in this image\n",
    "        top, right, bottom, left = face_location\n",
    "        print(\"A face is located at pixel location Top: \n",
    "              {}, Left: {}, Bottom: {}, Right: {}\".format(top, left, bottom, right))\n",
    "\n",
    "        # Actual face \n",
    "        face_image = image[top:bottom, left:right]\n",
    "        pil_image = Image.fromarray(face_image)\n",
    "        # Save the Image to HDD for Emotion Recognition\n",
    "        pil_image.save('IM_obj.jpg')\n",
    "        target_emotions = ['calm','anger','happiness']\n",
    "        # Emotion Recognition Model setup\n",
    "        model = FERModel(target_emotions, verbose=True)\n",
    "        # Making predictions\n",
    "        model.predict('IM_obj.jpg')\n",
    "        file = open('emot.txt','r')\n",
    "        emo = file.read()\n",
    "        emos.append(emo)\n",
    "        file.close()\n",
    "    return emos"
   ]
  },
  {
   "cell_type": "code",
   "execution_count": null,
   "metadata": {
    "collapsed": true
   },
   "outputs": [],
   "source": [
    "# Emotion_summary_function or f_score function\n",
    "def emo_score(emos):\n",
    "    score  = []\n",
    "    for n in emos:\n",
    "        if n == 'anger':\n",
    "            score.append(1)\n",
    "        elif n == 'calm':\n",
    "            score.append(2)\n",
    "        elif n == 'happiness':\n",
    "            score.append(3)\n",
    "    try:\n",
    "        f_score = sum(score)/len(score)\n",
    "        return f_score\n",
    "    except ZeroDivisionError: \n",
    "        f_score = 'nan'"
   ]
  },
  {
   "cell_type": "markdown",
   "metadata": {},
   "source": [
    "The following code section uses the above functions to summarize and store our metrics in a few lists. "
   ]
  },
  {
   "cell_type": "code",
   "execution_count": null,
   "metadata": {
    "collapsed": true
   },
   "outputs": [],
   "source": [
    "# The code below does 2 things!\n",
    "# 1) Gets the file name (which is the image ID)\n",
    "# 2) Reads each image in the directory into face_recognition package!\n",
    "m_id = [] # Movie ID\n",
    "m_fs = [] # Face Score\n",
    "m_nf = [] # Number of faces\n",
    "\n",
    "for mlist in glob.glob(os.path.join(im_list, '*.txt')):\n",
    "    print(mlist)\n",
    "    with open(mlist, 'rb') as f:\n",
    "        lst = pickle.load(f)\n",
    "        for item in lst:\n",
    "            m_id.append(os.path.splitext(os.path.basename(item))[0])\n",
    "            print(item)\n",
    "            image = face_recognition.load_image_file(item)\n",
    "            face_locations = face_recognition.face_locations(image, number_of_times_to_upsample=0, model=\"cnn\")\n",
    "            print(\"I found {} face(s) in this photograph.\".format(len(face_locations)))\n",
    "            emo = f_location(face_locations)\n",
    "            fs = emo_score(emo)\n",
    "            m_fs.append(fs)\n",
    "            m_nf.append(len(face_locations))\n",
    "\n",
    "print(m_id)\n",
    "print(m_fs)\n",
    "print(m_nf)"
   ]
  },
  {
   "cell_type": "markdown",
   "metadata": {},
   "source": [
    "#### Note\n",
    "Again, since this is not a \"live\" code, and poster processing (~16 hrs for ~4400 posters) has been preformed separately, we will be using the stored data."
   ]
  },
  {
   "cell_type": "code",
   "execution_count": 7,
   "metadata": {},
   "outputs": [
    {
     "data": {
      "text/html": [
       "<div>\n",
       "<style scoped>\n",
       "    .dataframe tbody tr th:only-of-type {\n",
       "        vertical-align: middle;\n",
       "    }\n",
       "\n",
       "    .dataframe tbody tr th {\n",
       "        vertical-align: top;\n",
       "    }\n",
       "\n",
       "    .dataframe thead th {\n",
       "        text-align: right;\n",
       "    }\n",
       "</style>\n",
       "<table border=\"1\" class=\"dataframe\">\n",
       "  <thead>\n",
       "    <tr style=\"text-align: right;\">\n",
       "      <th></th>\n",
       "      <th>Movie_ID</th>\n",
       "      <th>Face_score</th>\n",
       "      <th>Face_count</th>\n",
       "    </tr>\n",
       "  </thead>\n",
       "  <tbody>\n",
       "    <tr>\n",
       "      <th>0</th>\n",
       "      <td>38970</td>\n",
       "      <td>2.333333</td>\n",
       "      <td>3</td>\n",
       "    </tr>\n",
       "    <tr>\n",
       "      <th>1</th>\n",
       "      <td>38985</td>\n",
       "      <td>1.000000</td>\n",
       "      <td>1</td>\n",
       "    </tr>\n",
       "    <tr>\n",
       "      <th>2</th>\n",
       "      <td>39013</td>\n",
       "      <td>3.000000</td>\n",
       "      <td>1</td>\n",
       "    </tr>\n",
       "    <tr>\n",
       "      <th>3</th>\n",
       "      <td>3902</td>\n",
       "      <td>NaN</td>\n",
       "      <td>0</td>\n",
       "    </tr>\n",
       "    <tr>\n",
       "      <th>4</th>\n",
       "      <td>39037</td>\n",
       "      <td>3.000000</td>\n",
       "      <td>3</td>\n",
       "    </tr>\n",
       "  </tbody>\n",
       "</table>\n",
       "</div>"
      ],
      "text/plain": [
       "   Movie_ID  Face_score  Face_count\n",
       "0     38970    2.333333           3\n",
       "1     38985    1.000000           1\n",
       "2     39013    3.000000           1\n",
       "3      3902         NaN           0\n",
       "4     39037    3.000000           3"
      ]
     },
     "execution_count": 7,
     "metadata": {},
     "output_type": "execute_result"
    }
   ],
   "source": [
    "# Reading the emotion data frame\n",
    "e_df = pd.read_csv('/home/fyousef/face_rec/MOVIE_5000/movies_emo_score.csv')\n",
    "e_df.head(5)"
   ]
  }
 ],
 "metadata": {
  "kernelspec": {
   "display_name": "Python 3",
   "language": "python",
   "name": "python3"
  },
  "language_info": {
   "codemirror_mode": {
    "name": "ipython",
    "version": 3
   },
   "file_extension": ".py",
   "mimetype": "text/x-python",
   "name": "python",
   "nbconvert_exporter": "python",
   "pygments_lexer": "ipython3",
   "version": "3.6.3"
  }
 },
 "nbformat": 4,
 "nbformat_minor": 2
}
